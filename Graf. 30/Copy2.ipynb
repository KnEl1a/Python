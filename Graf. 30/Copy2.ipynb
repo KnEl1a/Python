{
 "cells": [
  {
   "cell_type": "code",
   "execution_count": 1,
   "id": "fc897304-edff-4885-81ff-26cd4446cf1e",
   "metadata": {},
   "outputs": [],
   "source": [
    "import pandas as pd\n",
    "import numpy as np\n",
    "import seaborn as sns\n",
    "import matplotlib.pyplot as plt\n",
    "import matplotlib.ticker as ticker\n",
    "\n",
    "# Cargar los datos desde el archivo CSV\n",
    "#data = pd.read_csv(\"principales-pases.csv\", sep=';', decimal=',')\n",
    "#data = pd.read_excel(r\"C:\\Users\\Usuario\\Downloads\\Participación de cada uno de los países del Mercosur en las exportaciones del bloque a China 2015-2019.xlsx\")\n",
    "df = pd.read_excel(r\"C:\\Users\\Usuario\\Desktop\\Port Folio\\Pandas y Matplotlib\\Proyecto I+D UNO\\Graf. 30\\Datos7.xlsx\")"
   ]
  },
  {
   "cell_type": "code",
   "execution_count": 2,
   "id": "8a7df758-8cd9-4058-9c58-9681d5d691d6",
   "metadata": {},
   "outputs": [
    {
     "data": {
      "text/html": [
       "<div>\n",
       "<style scoped>\n",
       "    .dataframe tbody tr th:only-of-type {\n",
       "        vertical-align: middle;\n",
       "    }\n",
       "\n",
       "    .dataframe tbody tr th {\n",
       "        vertical-align: top;\n",
       "    }\n",
       "\n",
       "    .dataframe thead th {\n",
       "        text-align: right;\n",
       "    }\n",
       "</style>\n",
       "<table border=\"1\" class=\"dataframe\">\n",
       "  <thead>\n",
       "    <tr style=\"text-align: right;\">\n",
       "      <th></th>\n",
       "      <th>Unnamed: 0</th>\n",
       "      <th>BRASIL</th>\n",
       "      <th>%</th>\n",
       "      <th>ARG</th>\n",
       "      <th>%.1</th>\n",
       "      <th>URUGUAY</th>\n",
       "      <th>%.2</th>\n",
       "      <th>MUNDO (importaciones totales de China)</th>\n",
       "    </tr>\n",
       "  </thead>\n",
       "  <tbody>\n",
       "    <tr>\n",
       "      <th>0</th>\n",
       "      <td>2015</td>\n",
       "      <td>40925510</td>\n",
       "      <td>50.098750</td>\n",
       "      <td>9723394</td>\n",
       "      <td>11.902842</td>\n",
       "      <td>771616</td>\n",
       "      <td>0.944570</td>\n",
       "      <td>81689683</td>\n",
       "    </tr>\n",
       "    <tr>\n",
       "      <th>1</th>\n",
       "      <td>2016</td>\n",
       "      <td>38563906</td>\n",
       "      <td>52.047880</td>\n",
       "      <td>7792820</td>\n",
       "      <td>10.517601</td>\n",
       "      <td>386757</td>\n",
       "      <td>0.521988</td>\n",
       "      <td>74093135</td>\n",
       "    </tr>\n",
       "    <tr>\n",
       "      <th>2</th>\n",
       "      <td>2017</td>\n",
       "      <td>53796970</td>\n",
       "      <td>56.311727</td>\n",
       "      <td>6603291</td>\n",
       "      <td>6.911964</td>\n",
       "      <td>1362163</td>\n",
       "      <td>1.425838</td>\n",
       "      <td>95534221</td>\n",
       "    </tr>\n",
       "    <tr>\n",
       "      <th>3</th>\n",
       "      <td>2018</td>\n",
       "      <td>68556607</td>\n",
       "      <td>77.872482</td>\n",
       "      <td>3394680</td>\n",
       "      <td>3.855969</td>\n",
       "      <td>542974</td>\n",
       "      <td>0.616756</td>\n",
       "      <td>88037013</td>\n",
       "    </tr>\n",
       "    <tr>\n",
       "      <th>4</th>\n",
       "      <td>2019</td>\n",
       "      <td>57963491</td>\n",
       "      <td>65.485994</td>\n",
       "      <td>8962120</td>\n",
       "      <td>10.125224</td>\n",
       "      <td>952696</td>\n",
       "      <td>1.076337</td>\n",
       "      <td>88512806</td>\n",
       "    </tr>\n",
       "  </tbody>\n",
       "</table>\n",
       "</div>"
      ],
      "text/plain": [
       "   Unnamed: 0    BRASIL          %      ARG        %.1  URUGUAY       %.2  \\\n",
       "0        2015  40925510  50.098750  9723394  11.902842   771616  0.944570   \n",
       "1        2016  38563906  52.047880  7792820  10.517601   386757  0.521988   \n",
       "2        2017  53796970  56.311727  6603291   6.911964  1362163  1.425838   \n",
       "3        2018  68556607  77.872482  3394680   3.855969   542974  0.616756   \n",
       "4        2019  57963491  65.485994  8962120  10.125224   952696  1.076337   \n",
       "\n",
       "   MUNDO (importaciones totales de China)  \n",
       "0                                81689683  \n",
       "1                                74093135  \n",
       "2                                95534221  \n",
       "3                                88037013  \n",
       "4                                88512806  "
      ]
     },
     "execution_count": 2,
     "metadata": {},
     "output_type": "execute_result"
    }
   ],
   "source": [
    "df"
   ]
  },
  {
   "cell_type": "code",
   "execution_count": 3,
   "id": "07e4c944-2685-4d1a-84e2-a37ec963613a",
   "metadata": {},
   "outputs": [
    {
     "ename": "IndexError",
     "evalue": "index 3 is out of bounds for axis 1 with size 3",
     "output_type": "error",
     "traceback": [
      "\u001b[1;31m---------------------------------------------------------------------------\u001b[0m",
      "\u001b[1;31mIndexError\u001b[0m                                Traceback (most recent call last)",
      "Cell \u001b[1;32mIn[3], line 22\u001b[0m\n\u001b[0;32m     20\u001b[0m \u001b[38;5;66;03m# Iterar sobre las columnas del DataFrame para crear las barras apiladas\u001b[39;00m\n\u001b[0;32m     21\u001b[0m \u001b[38;5;28;01mfor\u001b[39;00m i, col \u001b[38;5;129;01min\u001b[39;00m \u001b[38;5;28menumerate\u001b[39m(df\u001b[38;5;241m.\u001b[39mcolumns[\u001b[38;5;241m1\u001b[39m:]):\n\u001b[1;32m---> 22\u001b[0m     p \u001b[38;5;241m=\u001b[39m ax\u001b[38;5;241m.\u001b[39mbar(species, \u001b[43mweight_counts\u001b[49m\u001b[43m[\u001b[49m\u001b[43m:\u001b[49m\u001b[43m,\u001b[49m\u001b[43m \u001b[49m\u001b[43mi\u001b[49m\u001b[43m]\u001b[49m, width, label\u001b[38;5;241m=\u001b[39mcol, bottom\u001b[38;5;241m=\u001b[39mbottom)\n\u001b[0;32m     23\u001b[0m     bottom \u001b[38;5;241m+\u001b[39m\u001b[38;5;241m=\u001b[39m weight_counts[:, i]\n\u001b[0;32m     25\u001b[0m \u001b[38;5;66;03m# Establecer el título del gráfico\u001b[39;00m\n",
      "\u001b[1;31mIndexError\u001b[0m: index 3 is out of bounds for axis 1 with size 3"
     ]
    },
    {
     "data": {
      "image/png": "[encoded data removed]",
      "text/plain": [
       "<Figure size 640x480 with 1 Axes>"
      ]
     },
     "metadata": {},
     "output_type": "display_data"
    }
   ],
   "source": [
    "import matplotlib.pyplot as plt\n",
    "import pandas as pd\n",
    "import numpy as np\n",
    "\n",
    "# Definir las etiquetas de las especies\n",
    "species = df[\"Unnamed: 0\"]\n",
    "\n",
    "# Definir los recuentos de peso por encima y por debajo del promedio\n",
    "weight_counts = df[[\"URUGUAY\", \"ARG\", \"BRASIL\"]].values\n",
    "\n",
    "# Definir el ancho de las barras\n",
    "width = 0.5\n",
    "\n",
    "# Crear la figura y los ejes\n",
    "fig, ax = plt.subplots()\n",
    "\n",
    "# Inicializar la posición inferior de las barras apiladas\n",
    "bottom = np.zeros(len(species))\n",
    "\n",
    "# Iterar sobre las columnas del DataFrame para crear las barras apiladas\n",
    "for i, col in enumerate(df.columns[1:]):\n",
    "    p = ax.bar(species, weight_counts[:, i], width, label=col, bottom=bottom)\n",
    "    bottom += weight_counts[:, i]\n",
    "\n",
    "# Establecer el título del gráfico\n",
    "ax.set_title(\"Number of penguins with above average body mass\")\n",
    "\n",
    "# Añadir la leyenda en la esquina superior derecha\n",
    "ax.legend(loc=\"upper right\")\n",
    "\n",
    "# Mostrar el gráfico\n",
    "plt.show()\n"
   ]
  }
 ],
 "metadata": {
  "kernelspec": {
   "display_name": "Python 3 (ipykernel)",
   "language": "python",
   "name": "python3"
  },
  "language_info": {
   "codemirror_mode": {
    "name": "ipython",
    "version": 3
   },
   "file_extension": ".py",
   "mimetype": "text/x-python",
   "name": "python",
   "nbconvert_exporter": "python",
   "pygments_lexer": "ipython3",
   "version": "3.11.4"
  }
 },
 "nbformat": 4,
 "nbformat_minor": 5
}
